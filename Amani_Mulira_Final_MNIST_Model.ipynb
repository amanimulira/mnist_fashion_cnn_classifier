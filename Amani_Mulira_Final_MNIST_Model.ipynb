{
  "nbformat": 4,
  "nbformat_minor": 0,
  "metadata": {
    "colab": {
      "provenance": [],
      "gpuType": "T4",
      "toc_visible": true
    },
    "kernelspec": {
      "name": "python3",
      "display_name": "Python 3"
    },
    "language_info": {
      "name": "python"
    },
    "accelerator": "GPU"
  },
  "cells": [
    {
      "cell_type": "code",
      "execution_count": 1,
      "metadata": {
        "id": "AMPlw-zjBYT1"
      },
      "outputs": [],
      "source": [
        "import torch\n",
        "import torch.nn as nn\n",
        "import torch.optim as optim\n",
        "from torchvision import datasets, transforms"
      ]
    },
    {
      "cell_type": "markdown",
      "source": [
        "Data Transformations"
      ],
      "metadata": {
        "id": "w8u1AHkrBw65"
      }
    },
    {
      "cell_type": "code",
      "source": [
        "transform_train = transforms.Compose([\n",
        "    transforms.ColorJitter(brightness=0.2, contrast=0.2, saturation=0.2),\n",
        "    transforms.ToTensor(),\n",
        "    ])\n",
        "\n",
        "transform_valid = transforms.Compose([\n",
        "    transforms.ToTensor(),\n",
        "])\n",
        "\n",
        "transform_test = transforms.Compose([\n",
        "    transforms.ToTensor(),\n",
        "])"
      ],
      "metadata": {
        "id": "LztHR-neBv5r"
      },
      "execution_count": 2,
      "outputs": []
    },
    {
      "cell_type": "markdown",
      "source": [
        "Loading Datasets"
      ],
      "metadata": {
        "id": "jjd8lNhICtyp"
      }
    },
    {
      "cell_type": "code",
      "source": [
        "train_dataset = datasets.FashionMNIST(root='./data', train=True, transform=transform_train, download=True)\n",
        "test_dataset = datasets.FashionMNIST(root='./data', train=False, transform=transform_test, download=True)\n"
      ],
      "metadata": {
        "colab": {
          "base_uri": "https://localhost:8080/"
        },
        "id": "ayJwM7BqChwi",
        "outputId": "d246b990-2b59-4fcc-f18b-3eb40ec099e2"
      },
      "execution_count": 3,
      "outputs": [
        {
          "output_type": "stream",
          "name": "stdout",
          "text": [
            "Downloading http://fashion-mnist.s3-website.eu-central-1.amazonaws.com/train-images-idx3-ubyte.gz\n",
            "Downloading http://fashion-mnist.s3-website.eu-central-1.amazonaws.com/train-images-idx3-ubyte.gz to ./data/FashionMNIST/raw/train-images-idx3-ubyte.gz\n"
          ]
        },
        {
          "output_type": "stream",
          "name": "stderr",
          "text": [
            "100%|██████████| 26421880/26421880 [00:01<00:00, 13216679.73it/s]\n"
          ]
        },
        {
          "output_type": "stream",
          "name": "stdout",
          "text": [
            "Extracting ./data/FashionMNIST/raw/train-images-idx3-ubyte.gz to ./data/FashionMNIST/raw\n",
            "\n",
            "Downloading http://fashion-mnist.s3-website.eu-central-1.amazonaws.com/train-labels-idx1-ubyte.gz\n",
            "Downloading http://fashion-mnist.s3-website.eu-central-1.amazonaws.com/train-labels-idx1-ubyte.gz to ./data/FashionMNIST/raw/train-labels-idx1-ubyte.gz\n"
          ]
        },
        {
          "output_type": "stream",
          "name": "stderr",
          "text": [
            "100%|██████████| 29515/29515 [00:00<00:00, 208258.48it/s]\n"
          ]
        },
        {
          "output_type": "stream",
          "name": "stdout",
          "text": [
            "Extracting ./data/FashionMNIST/raw/train-labels-idx1-ubyte.gz to ./data/FashionMNIST/raw\n",
            "\n",
            "Downloading http://fashion-mnist.s3-website.eu-central-1.amazonaws.com/t10k-images-idx3-ubyte.gz\n",
            "Downloading http://fashion-mnist.s3-website.eu-central-1.amazonaws.com/t10k-images-idx3-ubyte.gz to ./data/FashionMNIST/raw/t10k-images-idx3-ubyte.gz\n"
          ]
        },
        {
          "output_type": "stream",
          "name": "stderr",
          "text": [
            "100%|██████████| 4422102/4422102 [00:01<00:00, 3886779.14it/s]\n"
          ]
        },
        {
          "output_type": "stream",
          "name": "stdout",
          "text": [
            "Extracting ./data/FashionMNIST/raw/t10k-images-idx3-ubyte.gz to ./data/FashionMNIST/raw\n",
            "\n",
            "Downloading http://fashion-mnist.s3-website.eu-central-1.amazonaws.com/t10k-labels-idx1-ubyte.gz\n",
            "Downloading http://fashion-mnist.s3-website.eu-central-1.amazonaws.com/t10k-labels-idx1-ubyte.gz to ./data/FashionMNIST/raw/t10k-labels-idx1-ubyte.gz\n"
          ]
        },
        {
          "output_type": "stream",
          "name": "stderr",
          "text": [
            "100%|██████████| 5148/5148 [00:00<00:00, 17469479.77it/s]"
          ]
        },
        {
          "output_type": "stream",
          "name": "stdout",
          "text": [
            "Extracting ./data/FashionMNIST/raw/t10k-labels-idx1-ubyte.gz to ./data/FashionMNIST/raw\n",
            "\n"
          ]
        },
        {
          "output_type": "stream",
          "name": "stderr",
          "text": [
            "\n"
          ]
        }
      ]
    },
    {
      "cell_type": "code",
      "source": [
        "# Hyperparameters\n",
        "\n",
        "num_epochs = 50\n",
        "lr = 0.001\n",
        "batch_size = 64"
      ],
      "metadata": {
        "id": "P-Gf-YW9DpVx"
      },
      "execution_count": 12,
      "outputs": []
    },
    {
      "cell_type": "markdown",
      "source": [
        "Creating Validation Set & Dataloaders"
      ],
      "metadata": {
        "id": "JL3LGFMSC6oP"
      }
    },
    {
      "cell_type": "code",
      "source": [
        "from torch.utils.data import DataLoader, random_split"
      ],
      "metadata": {
        "id": "jnjNswRWDgD0"
      },
      "execution_count": 5,
      "outputs": []
    },
    {
      "cell_type": "code",
      "source": [
        "# Percent size of validation set\n",
        "validation_size = 0.2\n",
        "\n",
        "# train_dataset ==> training set | validation sets\n",
        "\n",
        "num_samples = len(train_dataset)\n",
        "num_validation = int(validation_size * num_samples)\n",
        "num_training = num_samples - num_validation\n",
        "\n",
        "# Split the dataset into training and validation sets\n",
        "train_dataset, validation_dataset = random_split(train_dataset, [num_training, num_validation])\n",
        "\n",
        "\n",
        "# Data loaders\n",
        "train_loader = DataLoader(train_dataset, batch_size=batch_size, shuffle=True)\n",
        "valid_loader = DataLoader(validation_dataset, batch_size=batch_size, shuffle=False)\n",
        "test_loader = DataLoader(test_dataset, batch_size=batch_size, shuffle=False)"
      ],
      "metadata": {
        "id": "Xd4mnVDCC6Oe"
      },
      "execution_count": 6,
      "outputs": []
    },
    {
      "cell_type": "markdown",
      "source": [
        "Define Model"
      ],
      "metadata": {
        "id": "XdbCMT-8ECKn"
      }
    },
    {
      "cell_type": "code",
      "source": [
        "class MNIST_Fashion_CNN(nn.Module):\n",
        "    def __init__(self, num_classes, dropout_rate1, dropout_rate2, dropout_rate3, linear_hidden_size):\n",
        "        super(MNIST_Fashion_CNN, self).__init__()\n",
        "\n",
        "        # Block One\n",
        "        self.block1 = nn.Sequential(\n",
        "            nn.BatchNorm2d(1),\n",
        "            nn.Conv2d(1, 32, kernel_size=3, padding='same'),\n",
        "            nn.ReLU(),\n",
        "            nn.MaxPool2d(2),\n",
        "            nn.Dropout(dropout_rate1)\n",
        "        )\n",
        "\n",
        "        # Block Two\n",
        "        self.block2 = nn.Sequential(\n",
        "            nn.BatchNorm2d(32),\n",
        "            nn.Conv2d(32, 64, kernel_size=3, padding='same'),\n",
        "            nn.ReLU(),\n",
        "            nn.MaxPool2d(2),\n",
        "            nn.Dropout(dropout_rate2)\n",
        "        )\n",
        "\n",
        "        # Block Three\n",
        "        self.block3 = nn.Sequential(\n",
        "            nn.BatchNorm2d(64),\n",
        "            nn.Conv2d(64, 128, kernel_size=3, padding='same'),\n",
        "            nn.ReLU(),\n",
        "            nn.Conv2d(128, 128, kernel_size=3, padding='same'),\n",
        "            nn.ReLU(),\n",
        "            nn.MaxPool2d(2),\n",
        "            nn.Dropout(dropout_rate3)\n",
        "        )\n",
        "\n",
        "        # Head\n",
        "        self.head = nn.Sequential(\n",
        "            nn.BatchNorm2d(128),\n",
        "            nn.Flatten(),\n",
        "            nn.Linear(128 * (28 // 8) * (28 // 8), linear_hidden_size),\n",
        "            nn.ReLU(),\n",
        "            nn.Dropout(0.3)  # Keeping dropout rate fixed at 0.3,\n",
        "        )\n",
        "\n",
        "        # Final Layer (Output)\n",
        "        self.output_layer = nn.Linear(linear_hidden_size, num_classes)\n",
        "\n",
        "    def forward(self, x):\n",
        "        x = self.block1(x)\n",
        "        x = self.block2(x)\n",
        "        x = self.block3(x)\n",
        "        x = self.head(x)\n",
        "        output = self.output_layer(x)\n",
        "        return output"
      ],
      "metadata": {
        "id": "mrYffhgwEB37"
      },
      "execution_count": 7,
      "outputs": []
    },
    {
      "cell_type": "markdown",
      "source": [
        "Hyperparameters to Test"
      ],
      "metadata": {
        "id": "XwOyMBqOEQud"
      }
    },
    {
      "cell_type": "code",
      "source": [
        "dropout_rates_block1 = [ 0.2, 0.3]\n",
        "dropout_rates_block2 = [0.0, 0.2, 0.3]\n",
        "dropout_rates_block3 = [0.0, 0.2, 0.3]\n",
        "linear_hidden_sizes = [128]"
      ],
      "metadata": {
        "id": "BfdfwZIHEYMX"
      },
      "execution_count": null,
      "outputs": []
    },
    {
      "cell_type": "code",
      "source": [
        "# model = MNIST_Fashion_CNN( 10, dropout_rate1= 0.0, dropout_rate2=0.0, dropout_rate3=0.0, linear_hidden_size=32)"
      ],
      "metadata": {
        "id": "FjZ4-v89Eg5H"
      },
      "execution_count": null,
      "outputs": []
    },
    {
      "cell_type": "markdown",
      "source": [
        "Loss Function & Optimizer"
      ],
      "metadata": {
        "id": "vRcKuB03Dxsg"
      }
    },
    {
      "cell_type": "code",
      "source": [
        "# Categorical Cross Entropy Loss\n",
        "\n",
        "criterion = nn.CrossEntropyLoss()"
      ],
      "metadata": {
        "id": "j16hUFIbCmQ2"
      },
      "execution_count": 8,
      "outputs": []
    },
    {
      "cell_type": "markdown",
      "source": [
        "Training Model"
      ],
      "metadata": {
        "id": "pqpkmKNiFFjm"
      }
    },
    {
      "cell_type": "code",
      "source": [],
      "metadata": {
        "id": "OnGGqxG9FCVk"
      },
      "execution_count": null,
      "outputs": []
    },
    {
      "cell_type": "markdown",
      "source": [
        "Losses & Accuracies to Track Models Performance"
      ],
      "metadata": {
        "id": "hKmTLSNlFcCq"
      }
    },
    {
      "cell_type": "code",
      "source": [
        "train_losses = []\n",
        "val_losses = []\n",
        "\n",
        "train_accuracies = []\n",
        "val_accuracies = []"
      ],
      "metadata": {
        "id": "XsqWqi75FY6o"
      },
      "execution_count": 18,
      "outputs": []
    },
    {
      "cell_type": "code",
      "source": [
        "import itertools\n",
        "\n",
        "hyperparameter_combinations = list(itertools.product( dropout_rates_block1, dropout_rates_block2, dropout_rates_block3, linear_hidden_sizes))\n"
      ],
      "metadata": {
        "id": "krYUfm0vGAUH"
      },
      "execution_count": null,
      "outputs": []
    },
    {
      "cell_type": "code",
      "source": [
        "# Dictionary to store results\n",
        "results_dict = {}"
      ],
      "metadata": {
        "id": "3kdo6c_OIZ6i"
      },
      "execution_count": 10,
      "outputs": []
    },
    {
      "cell_type": "markdown",
      "source": [
        "Grid Search"
      ],
      "metadata": {
        "id": "A2MABK32Glex"
      }
    },
    {
      "cell_type": "code",
      "source": [
        "# for dropout_rate1, dropout_rate2, dropout_rate3, linear_hidden_size in hyperparameter_combinations:\n",
        "\n",
        "#   model = MNIST_Fashion_CNN(num_classes=10, dropout_rate1=dropout_rate1, dropout_rate2=dropout_rate2, dropout_rate3=dropout_rate3, linear_hidden_size=linear_hidden_size)\n",
        "\n",
        "#   #  Adam ( Adaptive Moment Estimation ) Optimizer\n",
        "\n",
        "#   optimizer = optim.Adam(model.parameters(), lr=lr)\n",
        "\n",
        "#   device = torch.device(\"cuda\" if torch.cuda.is_available() else \"cpu\")\n",
        "#   model.to(device)\n",
        "\n",
        "#   for epoch in range(num_epochs):\n",
        "#     model.train()\n",
        "\n",
        "#     total_train_loss = 0.0\n",
        "#     correct_train = 0\n",
        "#     total_train = 0\n",
        "\n",
        "#     for images, labels in train_loader:\n",
        "#         images, labels = images.to(device), labels.to(device)\n",
        "\n",
        "#         optimizer.zero_grad()\n",
        "#         outputs = model(images)\n",
        "#         loss = criterion(outputs, labels)\n",
        "#         total_train_loss += loss.item()\n",
        "#         _, predicted = torch.max(outputs, 1)\n",
        "#         total_train += labels.size(0)\n",
        "#         correct_train += (predicted == labels).sum().item()\n",
        "#         loss.backward()\n",
        "#         optimizer.step()\n",
        "\n",
        "\n",
        "#     avg_train_loss = total_train_loss / len(train_loader)\n",
        "#     train_accuracy = correct_train / total_train\n",
        "\n",
        "#     # Validation\n",
        "\n",
        "#     model.eval()\n",
        "\n",
        "#     total_val_loss = 0.0\n",
        "#     correct_val = 0\n",
        "#     total_val = 0\n",
        "\n",
        "#     with torch.no_grad():\n",
        "\n",
        "#         for inputs, labels in valid_loader:\n",
        "#             inputs, labels = inputs.to(device), labels.to(device)\n",
        "\n",
        "#             outputs = model(inputs)\n",
        "#             loss = criterion(outputs, labels)\n",
        "#             total_val_loss += loss.item()\n",
        "\n",
        "#             _, predicted = torch.max(outputs, 1)\n",
        "#             total_val += labels.size(0)\n",
        "#             correct_val += (predicted == labels).sum().item()\n",
        "\n",
        "#     avg_val_loss = total_val_loss / len(valid_loader)\n",
        "\n",
        "#     val_accuracy = correct_val / total_val\n",
        "\n",
        "\n",
        "#     # Print or log the results\n",
        "#     print(f\"Epoch {epoch + 1}/{num_epochs}: \"\n",
        "#           f\"Train Loss: {avg_train_loss:.4f}, Train Acc: {train_accuracy:.4f}, \"\n",
        "#           f\"Val Loss: {avg_val_loss:.4f}, Val Acc: {val_accuracy:.4f}\")\n",
        "\n",
        "#     # Append values to lists\n",
        "#     train_losses.append(avg_train_loss)\n",
        "#     val_losses.append(avg_val_loss)\n",
        "#     train_accuracies.append(train_accuracy)\n",
        "#     val_accuracies.append(val_accuracy)\n",
        "\n",
        "#   # Save results in the dictionary\n",
        "\n",
        "#   hyperparameter_set = {\n",
        "#       'lr': lr,\n",
        "#       'batch_size': batch_size,\n",
        "#       'dropout_rate1': dropout_rate1,\n",
        "#       'dropout_rate2': dropout_rate2,\n",
        "#       'dropout_rate3': dropout_rate3,\n",
        "#       'linear_hidden_size': linear_hidden_size,\n",
        "#   }\n",
        "\n",
        "#   results_dict[str(hyperparameter_set)] = val_accuracies\n",
        "\n",
        "# best_hyperparameter_set = max(results_dict, key=results_dict.get)\n",
        "# best_accuracy = results_dict[best_hyperparameter_set]\n",
        "\n",
        "# print(\"Best Hyperparameter Set:\", best_hyperparameter_set)\n",
        "# print(\"Best Accuracy:\", best_accuracy)\n",
        "\n",
        "  # # Save the best model based on validation accuracy\n",
        "\n",
        "  # if val_accuracy > best_accuracy:\n",
        "  #   best_accuracy = val_accuracy\n",
        "  #   best_model = model.state_dict()\n",
        "\n",
        "\n",
        "# Save the best model to a file\n",
        "# torch.save(best_model, 'best_model.pth')\n",
        "\n",
        "# Find the best hyperparameter set based on highest accuracy\n"
      ],
      "metadata": {
        "id": "bUjtUvoZGkWq",
        "colab": {
          "base_uri": "https://localhost:8080/"
        },
        "outputId": "acd5361e-7f56-4bbe-aaec-0f30e634996e"
      },
      "execution_count": null,
      "outputs": [
        {
          "output_type": "stream",
          "name": "stdout",
          "text": [
            "Epoch 1/10: Train Loss: 0.4269, Train Acc: 0.8431, Val Loss: 0.3090, Val Acc: 0.8873\n",
            "Epoch 2/10: Train Loss: 0.2867, Train Acc: 0.8959, Val Loss: 0.2533, Val Acc: 0.9077\n",
            "Epoch 3/10: Train Loss: 0.2476, Train Acc: 0.9084, Val Loss: 0.2433, Val Acc: 0.9093\n",
            "Epoch 4/10: Train Loss: 0.2257, Train Acc: 0.9159, Val Loss: 0.2373, Val Acc: 0.9144\n",
            "Epoch 5/10: Train Loss: 0.2041, Train Acc: 0.9249, Val Loss: 0.2410, Val Acc: 0.9100\n",
            "Epoch 6/10: Train Loss: 0.1863, Train Acc: 0.9306, Val Loss: 0.2358, Val Acc: 0.9156\n",
            "Epoch 7/10: Train Loss: 0.1757, Train Acc: 0.9340, Val Loss: 0.2215, Val Acc: 0.9210\n",
            "Epoch 8/10: Train Loss: 0.1592, Train Acc: 0.9405, Val Loss: 0.2320, Val Acc: 0.9194\n",
            "Epoch 9/10: Train Loss: 0.1491, Train Acc: 0.9448, Val Loss: 0.2292, Val Acc: 0.9215\n",
            "Epoch 10/10: Train Loss: 0.1384, Train Acc: 0.9481, Val Loss: 0.2413, Val Acc: 0.9187\n",
            "Epoch 1/10: Train Loss: 0.4435, Train Acc: 0.8373, Val Loss: 0.2999, Val Acc: 0.8842\n",
            "Epoch 2/10: Train Loss: 0.3024, Train Acc: 0.8901, Val Loss: 0.2661, Val Acc: 0.8999\n",
            "Epoch 3/10: Train Loss: 0.2647, Train Acc: 0.9020, Val Loss: 0.2446, Val Acc: 0.9071\n",
            "Epoch 4/10: Train Loss: 0.2421, Train Acc: 0.9107, Val Loss: 0.2326, Val Acc: 0.9133\n",
            "Epoch 5/10: Train Loss: 0.2249, Train Acc: 0.9160, Val Loss: 0.2277, Val Acc: 0.9167\n",
            "Epoch 6/10: Train Loss: 0.2070, Train Acc: 0.9239, Val Loss: 0.2323, Val Acc: 0.9128\n",
            "Epoch 7/10: Train Loss: 0.1945, Train Acc: 0.9273, Val Loss: 0.2206, Val Acc: 0.9200\n",
            "Epoch 8/10: Train Loss: 0.1860, Train Acc: 0.9310, Val Loss: 0.2464, Val Acc: 0.9102\n",
            "Epoch 9/10: Train Loss: 0.1760, Train Acc: 0.9351, Val Loss: 0.2172, Val Acc: 0.9212\n",
            "Epoch 10/10: Train Loss: 0.1616, Train Acc: 0.9396, Val Loss: 0.2278, Val Acc: 0.9211\n",
            "Epoch 1/10: Train Loss: 0.4670, Train Acc: 0.8301, Val Loss: 0.3065, Val Acc: 0.8882\n",
            "Epoch 2/10: Train Loss: 0.3191, Train Acc: 0.8843, Val Loss: 0.2730, Val Acc: 0.8963\n",
            "Epoch 3/10: Train Loss: 0.2851, Train Acc: 0.8942, Val Loss: 0.2425, Val Acc: 0.9086\n",
            "Epoch 4/10: Train Loss: 0.2546, Train Acc: 0.9058, Val Loss: 0.2344, Val Acc: 0.9137\n",
            "Epoch 5/10: Train Loss: 0.2382, Train Acc: 0.9118, Val Loss: 0.2320, Val Acc: 0.9130\n",
            "Epoch 6/10: Train Loss: 0.2231, Train Acc: 0.9162, Val Loss: 0.2191, Val Acc: 0.9190\n",
            "Epoch 7/10: Train Loss: 0.2121, Train Acc: 0.9221, Val Loss: 0.2309, Val Acc: 0.9168\n",
            "Epoch 8/10: Train Loss: 0.2000, Train Acc: 0.9252, Val Loss: 0.2166, Val Acc: 0.9207\n",
            "Epoch 9/10: Train Loss: 0.1947, Train Acc: 0.9280, Val Loss: 0.2223, Val Acc: 0.9178\n",
            "Epoch 10/10: Train Loss: 0.1805, Train Acc: 0.9326, Val Loss: 0.2216, Val Acc: 0.9270\n",
            "Epoch 1/10: Train Loss: 0.4478, Train Acc: 0.8364, Val Loss: 0.2981, Val Acc: 0.8901\n",
            "Epoch 2/10: Train Loss: 0.3053, Train Acc: 0.8875, Val Loss: 0.2635, Val Acc: 0.8988\n",
            "Epoch 3/10: Train Loss: 0.2722, Train Acc: 0.8997, Val Loss: 0.2319, Val Acc: 0.9125\n",
            "Epoch 4/10: Train Loss: 0.2442, Train Acc: 0.9108, Val Loss: 0.2313, Val Acc: 0.9115\n",
            "Epoch 5/10: Train Loss: 0.2292, Train Acc: 0.9159, Val Loss: 0.2336, Val Acc: 0.9151\n",
            "Epoch 6/10: Train Loss: 0.2142, Train Acc: 0.9205, Val Loss: 0.2168, Val Acc: 0.9215\n",
            "Epoch 7/10: Train Loss: 0.2006, Train Acc: 0.9257, Val Loss: 0.2187, Val Acc: 0.9211\n",
            "Epoch 8/10: Train Loss: 0.1930, Train Acc: 0.9279, Val Loss: 0.2098, Val Acc: 0.9223\n",
            "Epoch 9/10: Train Loss: 0.1818, Train Acc: 0.9330, Val Loss: 0.2140, Val Acc: 0.9232\n",
            "Epoch 10/10: Train Loss: 0.1728, Train Acc: 0.9342, Val Loss: 0.2215, Val Acc: 0.9216\n",
            "Epoch 1/10: Train Loss: 0.4677, Train Acc: 0.8273, Val Loss: 0.3064, Val Acc: 0.8840\n",
            "Epoch 2/10: Train Loss: 0.3191, Train Acc: 0.8822, Val Loss: 0.2643, Val Acc: 0.9002\n",
            "Epoch 3/10: Train Loss: 0.2838, Train Acc: 0.8943, Val Loss: 0.2514, Val Acc: 0.9057\n",
            "Epoch 4/10: Train Loss: 0.2618, Train Acc: 0.9033, Val Loss: 0.2326, Val Acc: 0.9117\n",
            "Epoch 5/10: Train Loss: 0.2448, Train Acc: 0.9088, Val Loss: 0.2232, Val Acc: 0.9147\n",
            "Epoch 6/10: Train Loss: 0.2307, Train Acc: 0.9145, Val Loss: 0.2321, Val Acc: 0.9166\n",
            "Epoch 7/10: Train Loss: 0.2233, Train Acc: 0.9166, Val Loss: 0.2207, Val Acc: 0.9176\n",
            "Epoch 8/10: Train Loss: 0.2129, Train Acc: 0.9221, Val Loss: 0.2163, Val Acc: 0.9200\n",
            "Epoch 9/10: Train Loss: 0.2053, Train Acc: 0.9237, Val Loss: 0.2118, Val Acc: 0.9195\n",
            "Epoch 10/10: Train Loss: 0.1974, Train Acc: 0.9253, Val Loss: 0.2201, Val Acc: 0.9174\n",
            "Epoch 1/10: Train Loss: 0.4866, Train Acc: 0.8213, Val Loss: 0.3195, Val Acc: 0.8805\n",
            "Epoch 2/10: Train Loss: 0.3332, Train Acc: 0.8790, Val Loss: 0.2722, Val Acc: 0.8992\n",
            "Epoch 3/10: Train Loss: 0.2993, Train Acc: 0.8910, Val Loss: 0.2505, Val Acc: 0.9051\n",
            "Epoch 4/10: Train Loss: 0.2773, Train Acc: 0.8978, Val Loss: 0.2371, Val Acc: 0.9102\n",
            "Epoch 5/10: Train Loss: 0.2588, Train Acc: 0.9036, Val Loss: 0.2301, Val Acc: 0.9153\n",
            "Epoch 6/10: Train Loss: 0.2503, Train Acc: 0.9068, Val Loss: 0.2261, Val Acc: 0.9153\n",
            "Epoch 7/10: Train Loss: 0.2375, Train Acc: 0.9126, Val Loss: 0.2268, Val Acc: 0.9166\n",
            "Epoch 8/10: Train Loss: 0.2298, Train Acc: 0.9147, Val Loss: 0.2157, Val Acc: 0.9189\n",
            "Epoch 9/10: Train Loss: 0.2182, Train Acc: 0.9197, Val Loss: 0.2241, Val Acc: 0.9118\n",
            "Epoch 10/10: Train Loss: 0.2151, Train Acc: 0.9191, Val Loss: 0.2120, Val Acc: 0.9213\n",
            "Epoch 1/10: Train Loss: 0.4691, Train Acc: 0.8260, Val Loss: 0.3479, Val Acc: 0.8708\n",
            "Epoch 2/10: Train Loss: 0.3198, Train Acc: 0.8819, Val Loss: 0.2757, Val Acc: 0.8923\n",
            "Epoch 3/10: Train Loss: 0.2845, Train Acc: 0.8957, Val Loss: 0.2654, Val Acc: 0.9023\n",
            "Epoch 4/10: Train Loss: 0.2594, Train Acc: 0.9037, Val Loss: 0.2459, Val Acc: 0.9100\n",
            "Epoch 5/10: Train Loss: 0.2429, Train Acc: 0.9094, Val Loss: 0.2399, Val Acc: 0.9102\n",
            "Epoch 6/10: Train Loss: 0.2294, Train Acc: 0.9149, Val Loss: 0.2500, Val Acc: 0.9058\n",
            "Epoch 7/10: Train Loss: 0.2156, Train Acc: 0.9195, Val Loss: 0.2232, Val Acc: 0.9190\n",
            "Epoch 8/10: Train Loss: 0.2051, Train Acc: 0.9237, Val Loss: 0.2257, Val Acc: 0.9179\n",
            "Epoch 9/10: Train Loss: 0.1980, Train Acc: 0.9249, Val Loss: 0.2280, Val Acc: 0.9199\n",
            "Epoch 10/10: Train Loss: 0.1911, Train Acc: 0.9295, Val Loss: 0.2144, Val Acc: 0.9207\n",
            "Epoch 1/10: Train Loss: 0.4900, Train Acc: 0.8196, Val Loss: 0.3334, Val Acc: 0.8750\n",
            "Epoch 2/10: Train Loss: 0.3372, Train Acc: 0.8751, Val Loss: 0.2950, Val Acc: 0.8830\n",
            "Epoch 3/10: Train Loss: 0.2999, Train Acc: 0.8901, Val Loss: 0.2756, Val Acc: 0.8947\n",
            "Epoch 4/10: Train Loss: 0.2755, Train Acc: 0.8975, Val Loss: 0.2534, Val Acc: 0.9070\n",
            "Epoch 5/10: Train Loss: 0.2609, Train Acc: 0.9051, Val Loss: 0.2413, Val Acc: 0.9073\n",
            "Epoch 6/10: Train Loss: 0.2474, Train Acc: 0.9082, Val Loss: 0.2264, Val Acc: 0.9151\n",
            "Epoch 7/10: Train Loss: 0.2374, Train Acc: 0.9106, Val Loss: 0.2265, Val Acc: 0.9146\n",
            "Epoch 8/10: Train Loss: 0.2296, Train Acc: 0.9146, Val Loss: 0.2507, Val Acc: 0.9134\n",
            "Epoch 9/10: Train Loss: 0.2222, Train Acc: 0.9164, Val Loss: 0.2305, Val Acc: 0.9134\n",
            "Epoch 10/10: Train Loss: 0.2119, Train Acc: 0.9205, Val Loss: 0.2100, Val Acc: 0.9220\n",
            "Epoch 1/10: Train Loss: 0.4973, Train Acc: 0.8172, Val Loss: 0.3273, Val Acc: 0.8785\n",
            "Epoch 2/10: Train Loss: 0.3432, Train Acc: 0.8731, Val Loss: 0.2756, Val Acc: 0.8958\n",
            "Epoch 3/10: Train Loss: 0.3074, Train Acc: 0.8871, Val Loss: 0.2625, Val Acc: 0.9000\n",
            "Epoch 4/10: Train Loss: 0.2825, Train Acc: 0.8958, Val Loss: 0.2445, Val Acc: 0.9105\n",
            "Epoch 5/10: Train Loss: 0.2723, Train Acc: 0.9001, Val Loss: 0.2389, Val Acc: 0.9107\n",
            "Epoch 6/10: Train Loss: 0.2588, Train Acc: 0.9052, Val Loss: 0.2730, Val Acc: 0.8971\n",
            "Epoch 7/10: Train Loss: 0.2475, Train Acc: 0.9086, Val Loss: 0.2320, Val Acc: 0.9147\n",
            "Epoch 8/10: Train Loss: 0.2370, Train Acc: 0.9122, Val Loss: 0.2350, Val Acc: 0.9126\n",
            "Epoch 9/10: Train Loss: 0.2311, Train Acc: 0.9152, Val Loss: 0.2206, Val Acc: 0.9201\n",
            "Epoch 10/10: Train Loss: 0.2227, Train Acc: 0.9180, Val Loss: 0.2124, Val Acc: 0.9217\n",
            "Epoch 1/10: Train Loss: 0.4371, Train Acc: 0.8405, Val Loss: 0.2865, Val Acc: 0.8922\n",
            "Epoch 2/10: Train Loss: 0.2943, Train Acc: 0.8929, Val Loss: 0.2529, Val Acc: 0.9040\n",
            "Epoch 3/10: Train Loss: 0.2544, Train Acc: 0.9060, Val Loss: 0.2518, Val Acc: 0.9042\n",
            "Epoch 4/10: Train Loss: 0.2305, Train Acc: 0.9157, Val Loss: 0.2301, Val Acc: 0.9161\n",
            "Epoch 5/10: Train Loss: 0.2151, Train Acc: 0.9204, Val Loss: 0.2424, Val Acc: 0.9136\n",
            "Epoch 6/10: Train Loss: 0.1975, Train Acc: 0.9261, Val Loss: 0.2392, Val Acc: 0.9138\n",
            "Epoch 7/10: Train Loss: 0.1839, Train Acc: 0.9301, Val Loss: 0.2254, Val Acc: 0.9179\n",
            "Epoch 8/10: Train Loss: 0.1716, Train Acc: 0.9355, Val Loss: 0.2222, Val Acc: 0.9225\n",
            "Epoch 9/10: Train Loss: 0.1613, Train Acc: 0.9387, Val Loss: 0.2263, Val Acc: 0.9237\n",
            "Epoch 10/10: Train Loss: 0.1494, Train Acc: 0.9436, Val Loss: 0.2236, Val Acc: 0.9231\n",
            "Epoch 1/10: Train Loss: 0.4538, Train Acc: 0.8341, Val Loss: 0.3218, Val Acc: 0.8781\n",
            "Epoch 2/10: Train Loss: 0.3112, Train Acc: 0.8863, Val Loss: 0.2608, Val Acc: 0.9011\n",
            "Epoch 3/10: Train Loss: 0.2720, Train Acc: 0.9006, Val Loss: 0.2528, Val Acc: 0.9052\n",
            "Epoch 4/10: Train Loss: 0.2492, Train Acc: 0.9078, Val Loss: 0.2702, Val Acc: 0.8951\n",
            "Epoch 5/10: Train Loss: 0.2337, Train Acc: 0.9139, Val Loss: 0.2332, Val Acc: 0.9139\n",
            "Epoch 6/10: Train Loss: 0.2214, Train Acc: 0.9186, Val Loss: 0.2316, Val Acc: 0.9152\n",
            "Epoch 7/10: Train Loss: 0.2059, Train Acc: 0.9228, Val Loss: 0.2104, Val Acc: 0.9242\n",
            "Epoch 8/10: Train Loss: 0.2004, Train Acc: 0.9268, Val Loss: 0.2105, Val Acc: 0.9250\n",
            "Epoch 9/10: Train Loss: 0.1895, Train Acc: 0.9292, Val Loss: 0.2281, Val Acc: 0.9173\n",
            "Epoch 10/10: Train Loss: 0.1801, Train Acc: 0.9326, Val Loss: 0.2146, Val Acc: 0.9241\n",
            "Epoch 1/10: Train Loss: 0.4613, Train Acc: 0.8305, Val Loss: 0.3356, Val Acc: 0.8764\n",
            "Epoch 2/10: Train Loss: 0.3218, Train Acc: 0.8811, Val Loss: 0.2701, Val Acc: 0.8976\n",
            "Epoch 3/10: Train Loss: 0.2846, Train Acc: 0.8956, Val Loss: 0.2567, Val Acc: 0.9022\n",
            "Epoch 4/10: Train Loss: 0.2630, Train Acc: 0.9036, Val Loss: 0.3078, Val Acc: 0.8886\n",
            "Epoch 5/10: Train Loss: 0.2563, Train Acc: 0.9064, Val Loss: 0.2691, Val Acc: 0.9013\n",
            "Epoch 6/10: Train Loss: 0.2344, Train Acc: 0.9133, Val Loss: 0.2230, Val Acc: 0.9166\n",
            "Epoch 7/10: Train Loss: 0.2245, Train Acc: 0.9173, Val Loss: 0.2208, Val Acc: 0.9222\n",
            "Epoch 8/10: Train Loss: 0.2120, Train Acc: 0.9205, Val Loss: 0.2287, Val Acc: 0.9200\n",
            "Epoch 9/10: Train Loss: 0.2037, Train Acc: 0.9238, Val Loss: 0.2139, Val Acc: 0.9203\n",
            "Epoch 10/10: Train Loss: 0.2013, Train Acc: 0.9256, Val Loss: 0.2151, Val Acc: 0.9230\n",
            "Epoch 1/10: Train Loss: 0.4638, Train Acc: 0.8291, Val Loss: 0.3286, Val Acc: 0.8801\n",
            "Epoch 2/10: Train Loss: 0.3160, Train Acc: 0.8827, Val Loss: 0.2778, Val Acc: 0.8955\n",
            "Epoch 3/10: Train Loss: 0.2766, Train Acc: 0.8979, Val Loss: 0.2508, Val Acc: 0.9069\n",
            "Epoch 4/10: Train Loss: 0.2573, Train Acc: 0.9053, Val Loss: 0.2501, Val Acc: 0.9064\n",
            "Epoch 5/10: Train Loss: 0.2369, Train Acc: 0.9129, Val Loss: 0.2479, Val Acc: 0.9103\n",
            "Epoch 6/10: Train Loss: 0.2275, Train Acc: 0.9160, Val Loss: 0.2356, Val Acc: 0.9160\n",
            "Epoch 7/10: Train Loss: 0.2158, Train Acc: 0.9203, Val Loss: 0.2345, Val Acc: 0.9137\n",
            "Epoch 8/10: Train Loss: 0.2065, Train Acc: 0.9225, Val Loss: 0.2152, Val Acc: 0.9212\n",
            "Epoch 9/10: Train Loss: 0.1922, Train Acc: 0.9292, Val Loss: 0.2208, Val Acc: 0.9217\n",
            "Epoch 10/10: Train Loss: 0.1838, Train Acc: 0.9303, Val Loss: 0.2288, Val Acc: 0.9206\n",
            "Epoch 1/10: Train Loss: 0.4856, Train Acc: 0.8203, Val Loss: 0.3625, Val Acc: 0.8642\n",
            "Epoch 2/10: Train Loss: 0.3339, Train Acc: 0.8770, Val Loss: 0.2716, Val Acc: 0.8975\n",
            "Epoch 3/10: Train Loss: 0.2962, Train Acc: 0.8920, Val Loss: 0.2622, Val Acc: 0.9027\n",
            "Epoch 4/10: Train Loss: 0.2772, Train Acc: 0.8981, Val Loss: 0.2379, Val Acc: 0.9101\n",
            "Epoch 5/10: Train Loss: 0.2592, Train Acc: 0.9054, Val Loss: 0.2504, Val Acc: 0.9074\n",
            "Epoch 6/10: Train Loss: 0.2494, Train Acc: 0.9080, Val Loss: 0.2366, Val Acc: 0.9103\n",
            "Epoch 7/10: Train Loss: 0.2377, Train Acc: 0.9120, Val Loss: 0.2301, Val Acc: 0.9174\n",
            "Epoch 8/10: Train Loss: 0.2242, Train Acc: 0.9171, Val Loss: 0.2272, Val Acc: 0.9189\n",
            "Epoch 9/10: Train Loss: 0.2185, Train Acc: 0.9185, Val Loss: 0.2348, Val Acc: 0.9175\n",
            "Epoch 10/10: Train Loss: 0.2106, Train Acc: 0.9216, Val Loss: 0.2232, Val Acc: 0.9165\n",
            "Epoch 1/10: Train Loss: 0.4956, Train Acc: 0.8192, Val Loss: 0.3248, Val Acc: 0.8792\n",
            "Epoch 2/10: Train Loss: 0.3392, Train Acc: 0.8744, Val Loss: 0.2765, Val Acc: 0.8982\n",
            "Epoch 3/10: Train Loss: 0.3047, Train Acc: 0.8859, Val Loss: 0.2525, Val Acc: 0.9032\n",
            "Epoch 4/10: Train Loss: 0.2830, Train Acc: 0.8958, Val Loss: 0.2535, Val Acc: 0.9038\n",
            "Epoch 5/10: Train Loss: 0.2683, Train Acc: 0.9009, Val Loss: 0.2350, Val Acc: 0.9097\n",
            "Epoch 6/10: Train Loss: 0.2565, Train Acc: 0.9052, Val Loss: 0.2295, Val Acc: 0.9127\n",
            "Epoch 7/10: Train Loss: 0.2441, Train Acc: 0.9102, Val Loss: 0.2297, Val Acc: 0.9165\n",
            "Epoch 8/10: Train Loss: 0.2373, Train Acc: 0.9127, Val Loss: 0.2154, Val Acc: 0.9165\n",
            "Epoch 9/10: Train Loss: 0.2294, Train Acc: 0.9166, Val Loss: 0.2288, Val Acc: 0.9155\n",
            "Epoch 10/10: Train Loss: 0.2215, Train Acc: 0.9176, Val Loss: 0.2177, Val Acc: 0.9200\n",
            "Epoch 1/10: Train Loss: 0.4822, Train Acc: 0.8225, Val Loss: 0.3215, Val Acc: 0.8796\n",
            "Epoch 2/10: Train Loss: 0.3325, Train Acc: 0.8780, Val Loss: 0.2943, Val Acc: 0.8898\n",
            "Epoch 3/10: Train Loss: 0.2928, Train Acc: 0.8929, Val Loss: 0.2561, Val Acc: 0.9052\n",
            "Epoch 4/10: Train Loss: 0.2674, Train Acc: 0.9019, Val Loss: 0.2557, Val Acc: 0.9041\n",
            "Epoch 5/10: Train Loss: 0.2506, Train Acc: 0.9073, Val Loss: 0.2506, Val Acc: 0.9077\n",
            "Epoch 6/10: Train Loss: 0.2364, Train Acc: 0.9131, Val Loss: 0.2303, Val Acc: 0.9156\n",
            "Epoch 7/10: Train Loss: 0.2249, Train Acc: 0.9169, Val Loss: 0.2308, Val Acc: 0.9144\n",
            "Epoch 8/10: Train Loss: 0.2128, Train Acc: 0.9210, Val Loss: 0.2203, Val Acc: 0.9197\n",
            "Epoch 9/10: Train Loss: 0.2056, Train Acc: 0.9225, Val Loss: 0.2216, Val Acc: 0.9182\n",
            "Epoch 10/10: Train Loss: 0.1957, Train Acc: 0.9260, Val Loss: 0.2205, Val Acc: 0.9206\n",
            "Epoch 1/10: Train Loss: 0.4942, Train Acc: 0.8184, Val Loss: 0.3595, Val Acc: 0.8652\n",
            "Epoch 2/10: Train Loss: 0.3417, Train Acc: 0.8744, Val Loss: 0.2892, Val Acc: 0.8900\n",
            "Epoch 3/10: Train Loss: 0.3036, Train Acc: 0.8888, Val Loss: 0.2588, Val Acc: 0.9045\n",
            "Epoch 4/10: Train Loss: 0.2832, Train Acc: 0.8952, Val Loss: 0.2476, Val Acc: 0.9072\n",
            "Epoch 5/10: Train Loss: 0.2646, Train Acc: 0.9020, Val Loss: 0.2465, Val Acc: 0.9073\n",
            "Epoch 6/10: Train Loss: 0.2544, Train Acc: 0.9055, Val Loss: 0.2346, Val Acc: 0.9096\n",
            "Epoch 7/10: Train Loss: 0.2452, Train Acc: 0.9085, Val Loss: 0.2248, Val Acc: 0.9163\n",
            "Epoch 8/10: Train Loss: 0.2353, Train Acc: 0.9136, Val Loss: 0.2282, Val Acc: 0.9150\n",
            "Epoch 9/10: Train Loss: 0.2309, Train Acc: 0.9136, Val Loss: 0.2188, Val Acc: 0.9197\n",
            "Epoch 10/10: Train Loss: 0.2187, Train Acc: 0.9183, Val Loss: 0.2212, Val Acc: 0.9190\n",
            "Epoch 1/10: Train Loss: 0.5159, Train Acc: 0.8101, Val Loss: 0.3325, Val Acc: 0.8751\n",
            "Epoch 2/10: Train Loss: 0.3580, Train Acc: 0.8673, Val Loss: 0.3036, Val Acc: 0.8842\n",
            "Epoch 3/10: Train Loss: 0.3167, Train Acc: 0.8823, Val Loss: 0.2719, Val Acc: 0.8962\n",
            "Epoch 4/10: Train Loss: 0.2931, Train Acc: 0.8928, Val Loss: 0.2430, Val Acc: 0.9071\n",
            "Epoch 5/10: Train Loss: 0.2784, Train Acc: 0.8978, Val Loss: 0.2437, Val Acc: 0.9100\n",
            "Epoch 6/10: Train Loss: 0.2690, Train Acc: 0.9002, Val Loss: 0.2428, Val Acc: 0.9113\n",
            "Epoch 7/10: Train Loss: 0.2589, Train Acc: 0.9042, Val Loss: 0.2282, Val Acc: 0.9141\n",
            "Epoch 8/10: Train Loss: 0.2468, Train Acc: 0.9080, Val Loss: 0.2346, Val Acc: 0.9142\n",
            "Epoch 9/10: Train Loss: 0.2419, Train Acc: 0.9104, Val Loss: 0.2258, Val Acc: 0.9140\n",
            "Epoch 10/10: Train Loss: 0.2344, Train Acc: 0.9123, Val Loss: 0.2127, Val Acc: 0.9198\n",
            "Best Hyperparameter Set: {'lr': 0.001, 'batch_size': 64, 'dropout_rate1': 0.2, 'dropout_rate2': 0.0, 'dropout_rate3': 0.0, 'linear_hidden_size': 128}\n",
            "Best Accuracy: [0.8873333333333333, 0.9076666666666666, 0.90925, 0.9144166666666667, 0.91, 0.9155833333333333, 0.921, 0.9194166666666667, 0.9215, 0.9186666666666666, 0.88425, 0.8999166666666667, 0.9070833333333334, 0.91325, 0.9166666666666666, 0.9128333333333334, 0.92, 0.9101666666666667, 0.9211666666666667, 0.9210833333333334, 0.88825, 0.8963333333333333, 0.9085833333333333, 0.91375, 0.913, 0.919, 0.9168333333333333, 0.9206666666666666, 0.9178333333333333, 0.927, 0.8900833333333333, 0.8988333333333334, 0.9125, 0.9115, 0.9150833333333334, 0.9215, 0.9210833333333334, 0.92225, 0.9231666666666667, 0.9215833333333333, 0.884, 0.90025, 0.9056666666666666, 0.91175, 0.91475, 0.9165833333333333, 0.9175833333333333, 0.92, 0.9195, 0.9174166666666667, 0.8805, 0.8991666666666667, 0.9050833333333334, 0.9101666666666667, 0.91525, 0.9153333333333333, 0.9165833333333333, 0.9189166666666667, 0.9118333333333334, 0.9213333333333333, 0.8708333333333333, 0.8923333333333333, 0.9023333333333333, 0.91, 0.9101666666666667, 0.9058333333333334, 0.919, 0.9179166666666667, 0.9199166666666667, 0.92075, 0.875, 0.883, 0.8946666666666667, 0.907, 0.90725, 0.9150833333333334, 0.9145833333333333, 0.9134166666666667, 0.9134166666666667, 0.922, 0.8785, 0.89575, 0.9, 0.9105, 0.9106666666666666, 0.8970833333333333, 0.91475, 0.9125833333333333, 0.9200833333333334, 0.9216666666666666, 0.89225, 0.904, 0.9041666666666667, 0.9160833333333334, 0.9135833333333333, 0.9138333333333334, 0.9179166666666667, 0.9225, 0.92375, 0.9230833333333334, 0.8780833333333333, 0.9010833333333333, 0.9051666666666667, 0.8950833333333333, 0.9139166666666667, 0.9151666666666667, 0.9241666666666667, 0.925, 0.9173333333333333, 0.9240833333333334, 0.8764166666666666, 0.8975833333333333, 0.9021666666666667, 0.8885833333333333, 0.9013333333333333, 0.9165833333333333, 0.9221666666666667, 0.92, 0.9203333333333333, 0.923, 0.8800833333333333, 0.8955, 0.9069166666666667, 0.9064166666666666, 0.9103333333333333, 0.916, 0.91375, 0.9211666666666667, 0.92175, 0.9205833333333333, 0.86425, 0.8975, 0.9026666666666666, 0.9100833333333334, 0.9074166666666666, 0.91025, 0.9174166666666667, 0.9189166666666667, 0.9175, 0.9165, 0.8791666666666667, 0.8981666666666667, 0.90325, 0.9038333333333334, 0.90975, 0.91275, 0.9165, 0.9165, 0.9155, 0.92, 0.8795833333333334, 0.8898333333333334, 0.90525, 0.9040833333333333, 0.9076666666666666, 0.9155833333333333, 0.9144166666666667, 0.91975, 0.9181666666666667, 0.9205833333333333, 0.86525, 0.89, 0.9045, 0.9071666666666667, 0.9073333333333333, 0.9095833333333333, 0.9163333333333333, 0.915, 0.91975, 0.919, 0.8750833333333333, 0.88425, 0.89625, 0.9070833333333334, 0.91, 0.9113333333333333, 0.9140833333333334, 0.9141666666666667, 0.914, 0.9198333333333333]\n"
          ]
        }
      ]
    },
    {
      "cell_type": "code",
      "source": [
        "model = MNIST_Fashion_CNN(num_classes=10, dropout_rate1=0.2, dropout_rate2=0.3, dropout_rate3=0.4, linear_hidden_size=64)\n",
        "\n",
        "#  Adam ( Adaptive Moment Estimation ) Optimizer\n",
        "\n",
        "optimizer = optim.Adam(model.parameters(), lr=lr)\n",
        "\n",
        "device = torch.device(\"cuda\" if torch.cuda.is_available() else \"cpu\")\n",
        "model.to(device)\n",
        "\n",
        "for epoch in range(num_epochs):\n",
        "  model.train()\n",
        "\n",
        "  total_train_loss = 0.0\n",
        "  correct_train = 0\n",
        "  total_train = 0\n",
        "\n",
        "  for images, labels in train_loader:\n",
        "      images, labels = images.to(device), labels.to(device)\n",
        "\n",
        "      optimizer.zero_grad()\n",
        "      outputs = model(images)\n",
        "      loss = criterion(outputs, labels)\n",
        "      total_train_loss += loss.item()\n",
        "      _, predicted = torch.max(outputs, 1)\n",
        "      total_train += labels.size(0)\n",
        "      correct_train += (predicted == labels).sum().item()\n",
        "      loss.backward()\n",
        "      optimizer.step()\n",
        "\n",
        "\n",
        "  avg_train_loss = total_train_loss / len(train_loader)\n",
        "  train_accuracy = correct_train / total_train\n",
        "\n",
        "  # Validation\n",
        "\n",
        "  model.eval()\n",
        "\n",
        "  total_val_loss = 0.0\n",
        "  correct_val = 0\n",
        "  total_val = 0\n",
        "\n",
        "  with torch.no_grad():\n",
        "\n",
        "      for inputs, labels in valid_loader:\n",
        "          inputs, labels = inputs.to(device), labels.to(device)\n",
        "\n",
        "          outputs = model(inputs)\n",
        "          loss = criterion(outputs, labels)\n",
        "          total_val_loss += loss.item()\n",
        "\n",
        "          _, predicted = torch.max(outputs, 1)\n",
        "          total_val += labels.size(0)\n",
        "          correct_val += (predicted == labels).sum().item()\n",
        "\n",
        "  avg_val_loss = total_val_loss / len(valid_loader)\n",
        "\n",
        "  val_accuracy = correct_val / total_val\n",
        "\n",
        "\n",
        "  # Print or log the results\n",
        "  print(f\"Epoch {epoch + 1}/{num_epochs}: \"\n",
        "        f\"Train Loss: {avg_train_loss:.4f}, Train Acc: {train_accuracy:.4f}, \"\n",
        "        f\"Val Loss: {avg_val_loss:.4f}, Val Acc: {val_accuracy:.4f}\")\n",
        "\n",
        "  # Append values to lists\n",
        "  train_losses.append(avg_train_loss)\n",
        "  val_losses.append(avg_val_loss)\n",
        "  train_accuracies.append(train_accuracy)\n",
        "  val_accuracies.append(val_accuracy)"
      ],
      "metadata": {
        "colab": {
          "base_uri": "https://localhost:8080/"
        },
        "id": "t378XurOZVGp",
        "outputId": "a5778aae-9b17-485a-911f-5f2754c98d28"
      },
      "execution_count": 20,
      "outputs": [
        {
          "output_type": "stream",
          "name": "stdout",
          "text": [
            "Epoch 1/50: Train Loss: 0.5476, Train Acc: 0.8010, Val Loss: 0.3499, Val Acc: 0.8668\n",
            "Epoch 2/50: Train Loss: 0.3762, Train Acc: 0.8609, Val Loss: 0.2995, Val Acc: 0.8904\n",
            "Epoch 3/50: Train Loss: 0.3341, Train Acc: 0.8771, Val Loss: 0.3056, Val Acc: 0.8852\n",
            "Epoch 4/50: Train Loss: 0.3106, Train Acc: 0.8863, Val Loss: 0.2601, Val Acc: 0.9034\n",
            "Epoch 5/50: Train Loss: 0.2925, Train Acc: 0.8926, Val Loss: 0.2618, Val Acc: 0.9016\n",
            "Epoch 6/50: Train Loss: 0.2796, Train Acc: 0.8965, Val Loss: 0.2415, Val Acc: 0.9107\n",
            "Epoch 7/50: Train Loss: 0.2728, Train Acc: 0.8998, Val Loss: 0.2786, Val Acc: 0.8965\n",
            "Epoch 8/50: Train Loss: 0.2610, Train Acc: 0.9041, Val Loss: 0.2334, Val Acc: 0.9133\n",
            "Epoch 9/50: Train Loss: 0.2549, Train Acc: 0.9080, Val Loss: 0.2347, Val Acc: 0.9145\n",
            "Epoch 10/50: Train Loss: 0.2494, Train Acc: 0.9080, Val Loss: 0.2320, Val Acc: 0.9163\n",
            "Epoch 11/50: Train Loss: 0.2410, Train Acc: 0.9109, Val Loss: 0.2305, Val Acc: 0.9173\n",
            "Epoch 12/50: Train Loss: 0.2343, Train Acc: 0.9141, Val Loss: 0.2324, Val Acc: 0.9158\n",
            "Epoch 13/50: Train Loss: 0.2306, Train Acc: 0.9148, Val Loss: 0.2239, Val Acc: 0.9192\n",
            "Epoch 14/50: Train Loss: 0.2281, Train Acc: 0.9156, Val Loss: 0.2210, Val Acc: 0.9229\n",
            "Epoch 15/50: Train Loss: 0.2229, Train Acc: 0.9180, Val Loss: 0.2230, Val Acc: 0.9203\n",
            "Epoch 16/50: Train Loss: 0.2188, Train Acc: 0.9203, Val Loss: 0.2178, Val Acc: 0.9243\n",
            "Epoch 17/50: Train Loss: 0.2158, Train Acc: 0.9209, Val Loss: 0.2191, Val Acc: 0.9208\n",
            "Epoch 18/50: Train Loss: 0.2133, Train Acc: 0.9206, Val Loss: 0.2204, Val Acc: 0.9230\n",
            "Epoch 19/50: Train Loss: 0.2083, Train Acc: 0.9222, Val Loss: 0.2162, Val Acc: 0.9202\n",
            "Epoch 20/50: Train Loss: 0.2062, Train Acc: 0.9230, Val Loss: 0.2094, Val Acc: 0.9221\n",
            "Epoch 21/50: Train Loss: 0.2020, Train Acc: 0.9247, Val Loss: 0.2129, Val Acc: 0.9251\n",
            "Epoch 22/50: Train Loss: 0.2001, Train Acc: 0.9258, Val Loss: 0.2166, Val Acc: 0.9236\n",
            "Epoch 23/50: Train Loss: 0.1977, Train Acc: 0.9276, Val Loss: 0.2179, Val Acc: 0.9217\n",
            "Epoch 24/50: Train Loss: 0.1944, Train Acc: 0.9281, Val Loss: 0.2163, Val Acc: 0.9250\n",
            "Epoch 25/50: Train Loss: 0.1938, Train Acc: 0.9296, Val Loss: 0.2089, Val Acc: 0.9251\n",
            "Epoch 26/50: Train Loss: 0.1898, Train Acc: 0.9304, Val Loss: 0.2069, Val Acc: 0.9278\n",
            "Epoch 27/50: Train Loss: 0.1869, Train Acc: 0.9301, Val Loss: 0.2079, Val Acc: 0.9276\n",
            "Epoch 28/50: Train Loss: 0.1838, Train Acc: 0.9311, Val Loss: 0.2096, Val Acc: 0.9273\n",
            "Epoch 29/50: Train Loss: 0.1864, Train Acc: 0.9312, Val Loss: 0.2062, Val Acc: 0.9263\n",
            "Epoch 30/50: Train Loss: 0.1821, Train Acc: 0.9316, Val Loss: 0.2161, Val Acc: 0.9247\n",
            "Epoch 31/50: Train Loss: 0.1788, Train Acc: 0.9332, Val Loss: 0.2272, Val Acc: 0.9175\n",
            "Epoch 32/50: Train Loss: 0.1772, Train Acc: 0.9345, Val Loss: 0.2118, Val Acc: 0.9259\n",
            "Epoch 33/50: Train Loss: 0.1781, Train Acc: 0.9338, Val Loss: 0.2096, Val Acc: 0.9284\n",
            "Epoch 34/50: Train Loss: 0.1767, Train Acc: 0.9342, Val Loss: 0.2087, Val Acc: 0.9275\n",
            "Epoch 35/50: Train Loss: 0.1716, Train Acc: 0.9354, Val Loss: 0.2127, Val Acc: 0.9253\n",
            "Epoch 36/50: Train Loss: 0.1694, Train Acc: 0.9354, Val Loss: 0.2149, Val Acc: 0.9249\n",
            "Epoch 37/50: Train Loss: 0.1691, Train Acc: 0.9375, Val Loss: 0.2134, Val Acc: 0.9287\n",
            "Epoch 38/50: Train Loss: 0.1668, Train Acc: 0.9376, Val Loss: 0.2317, Val Acc: 0.9251\n",
            "Epoch 39/50: Train Loss: 0.1662, Train Acc: 0.9375, Val Loss: 0.2185, Val Acc: 0.9278\n",
            "Epoch 40/50: Train Loss: 0.1639, Train Acc: 0.9367, Val Loss: 0.2216, Val Acc: 0.9253\n",
            "Epoch 41/50: Train Loss: 0.1661, Train Acc: 0.9378, Val Loss: 0.2101, Val Acc: 0.9292\n",
            "Epoch 42/50: Train Loss: 0.1613, Train Acc: 0.9394, Val Loss: 0.2224, Val Acc: 0.9253\n",
            "Epoch 43/50: Train Loss: 0.1595, Train Acc: 0.9401, Val Loss: 0.2174, Val Acc: 0.9306\n",
            "Epoch 44/50: Train Loss: 0.1606, Train Acc: 0.9398, Val Loss: 0.2223, Val Acc: 0.9246\n",
            "Epoch 45/50: Train Loss: 0.1573, Train Acc: 0.9411, Val Loss: 0.2159, Val Acc: 0.9292\n",
            "Epoch 46/50: Train Loss: 0.1508, Train Acc: 0.9428, Val Loss: 0.2357, Val Acc: 0.9241\n",
            "Epoch 47/50: Train Loss: 0.1540, Train Acc: 0.9410, Val Loss: 0.2164, Val Acc: 0.9297\n",
            "Epoch 48/50: Train Loss: 0.1543, Train Acc: 0.9416, Val Loss: 0.2218, Val Acc: 0.9274\n",
            "Epoch 49/50: Train Loss: 0.1514, Train Acc: 0.9431, Val Loss: 0.2128, Val Acc: 0.9296\n",
            "Epoch 50/50: Train Loss: 0.1525, Train Acc: 0.9423, Val Loss: 0.2190, Val Acc: 0.9267\n"
          ]
        }
      ]
    },
    {
      "cell_type": "markdown",
      "source": [
        "Testing"
      ],
      "metadata": {
        "id": "XIpQPjL0kbbU"
      }
    },
    {
      "cell_type": "code",
      "source": [
        "model.eval()\n",
        "with torch.no_grad():\n",
        "    correct_val = 0\n",
        "    total_val = 0\n",
        "\n",
        "    for images, labels in test_loader:\n",
        "        images, labels = images.to(device), labels.to(device)\n",
        "\n",
        "        outputs = model(images)\n",
        "        _, predicted = torch.max(outputs, 1)\n",
        "\n",
        "        total_val += labels.size(0)\n",
        "        correct_val += (predicted == labels).sum().item()\n",
        "\n",
        "    accuracy = correct_val / total_val\n",
        "    print(f\"Test Accuracy: {accuracy * 100:.2f}%\")"
      ],
      "metadata": {
        "colab": {
          "base_uri": "https://localhost:8080/"
        },
        "id": "wm3G9Ft2kYLl",
        "outputId": "cca31f72-692b-4b63-bb11-7c7f72322cd6"
      },
      "execution_count": 22,
      "outputs": [
        {
          "output_type": "stream",
          "name": "stdout",
          "text": [
            "Test Accuracy: 92.40%\n"
          ]
        }
      ]
    },
    {
      "cell_type": "code",
      "source": [
        "# confusion matrix\n",
        "import matplotlib.pyplot as plt\n",
        "from sklearn.metrics import confusion_matrix\n",
        "import seaborn as sns\n",
        "\n",
        "model.eval()\n",
        "all_predictions = []\n",
        "all_labels = []\n",
        "\n",
        "with torch.no_grad():\n",
        "    for inputs, labels in test_loader:\n",
        "        inputs, labels = inputs.to(device), labels.to(device)\n",
        "        outputs = model(inputs)\n",
        "        _, predictions = torch.max(outputs, 1)\n",
        "        all_predictions.extend(predictions.cpu().numpy())\n",
        "        all_labels.extend(labels.cpu().numpy())\n",
        "\n",
        "cm = confusion_matrix(all_labels, all_predictions)\n",
        "\n",
        "# Plot confusion matrix using seaborn\n",
        "sns.heatmap(cm, annot=True, fmt='d', cmap='Blues')\n",
        "plt.xlabel('Predicted')\n",
        "plt.ylabel('True')\n",
        "plt.show()"
      ],
      "metadata": {
        "colab": {
          "base_uri": "https://localhost:8080/",
          "height": 449
        },
        "id": "H3N-NTctkYrk",
        "outputId": "341f8e18-d72c-4e94-a716-c182004df887"
      },
      "execution_count": 16,
      "outputs": [
        {
          "output_type": "display_data",
          "data": {
            "text/plain": [
              "<Figure size 640x480 with 2 Axes>"
            ],
            "image/png": "[encoded data removed]"
          },
          "metadata": {}
        }
      ]
    },
    {
      "cell_type": "code",
      "source": [
        "# Plotting the results\n",
        "plt.figure(figsize=(10, 5))\n",
        "plt.subplot(1, 2, 1)\n",
        "plt.plot(val_losses, label='Training Loss')\n",
        "plt.title('Training Loss over Epochs')\n",
        "plt.xlabel('Epoch')\n",
        "plt.ylabel('Loss')\n",
        "plt.legend()\n",
        "\n",
        "plt.subplot(1, 2, 2)\n",
        "plt.plot(val_accuracies, label='Training Accuracy', color='orange')\n",
        "plt.title('Training Accuracy over Epochs')\n",
        "plt.xlabel('Epoch')\n",
        "plt.ylabel('Accuracy')\n",
        "plt.legend()\n",
        "\n",
        "plt.show()"
      ],
      "metadata": {
        "colab": {
          "base_uri": "https://localhost:8080/",
          "height": 362
        },
        "id": "SX4iuuv0kmxM",
        "outputId": "bdaa3bcd-6922-42ce-f408-a8d785d967b8"
      },
      "execution_count": 23,
      "outputs": [
        {
          "output_type": "display_data",
          "data": {
            "text/plain": [
              "<Figure size 1000x500 with 2 Axes>"
            ],
            "image/png": "[encoded data removed]"
          },
          "metadata": {}
        }
      ]
    },
    {
      "cell_type": "code",
      "source": [
        "def plot_learning_curves(train_losses, val_losses, train_accuracies, val_accuracies):\n",
        "    plt.plot(train_losses, label='Training Loss')\n",
        "    plt.plot(val_losses, label='Validation Loss')\n",
        "    plt.plot(train_accuracies, label='Training Accuracy')\n",
        "    plt.plot(val_accuracies, label='Validation Accuracy')\n",
        "    plt.legend()\n",
        "    plt.show()\n",
        "\n",
        "# Assuming 'train_losses', 'val_losses', 'train_accuracies', and 'val_accuracies' are lists containing the corresponding values at each epoch\n",
        "plot_learning_curves(train_losses, val_losses, train_accuracies, val_accuracies)"
      ],
      "metadata": {
        "colab": {
          "base_uri": "https://localhost:8080/",
          "height": 430
        },
        "id": "2boeB0gdk1rH",
        "outputId": "e14951bf-aacf-46f8-c072-abb3d19f289f"
      },
      "execution_count": 24,
      "outputs": [
        {
          "output_type": "display_data",
          "data": {
            "text/plain": [
              "<Figure size 640x480 with 1 Axes>"
            ],
            "image/png": "[encoded data removed]"
          },
          "metadata": {}
        }
      ]
    },
    {
      "cell_type": "code",
      "source": [
        "import matplotlib.pyplot as plt\n",
        "import torchvision.transforms as transforms\n",
        "\n",
        "def plot_activations(model, input_tensor, layer_name='block1'):\n",
        "    activations = []\n",
        "    def hook_fn(module, input, output):\n",
        "        activations.append(output)\n",
        "\n",
        "    # Get the  layer by name\n",
        "    layer = dict(model.named_children())[layer_name]\n",
        "\n",
        "    # Register the hook to the layer\n",
        "    hook_handle = layer.register_forward_hook(hook_fn)\n",
        "\n",
        "    with torch.no_grad():\n",
        "        input_tensor = input_tensor.to(device)\n",
        "        model(input_tensor)\n",
        "\n",
        "    # Remove the hook after obtaining activations\n",
        "    hook_handle.remove()\n",
        "\n",
        "    # Normalize activations\n",
        "    activation = activations[0][0]\n",
        "    activation = activation - activation.min()\n",
        "    activation = activation / activation.max()\n",
        "\n",
        "    # Plot the activations\n",
        "    num_activations = activation.size(0)\n",
        "    fig, axes = plt.subplots(1, num_activations, figsize=(28, 5))\n",
        "\n",
        "    for i in range(num_activations):\n",
        "      if i % 25 == 0:\n",
        "        axes[i].imshow(activation[i].cpu().numpy(), cmap='viridis')\n",
        "        axes[i].set_title(f'Activation {i+1}')\n",
        "      axes[i].axis('off')\n",
        "\n",
        "    plt.show()\n",
        "\n",
        "\n",
        "for inputs, _ in test_loader:\n",
        "    plot_activations(model, inputs, layer_name='block1')\n",
        "    break  # Only visualize activations for the first batch\n"
      ],
      "metadata": {
        "colab": {
          "base_uri": "https://localhost:8080/",
          "height": 132
        },
        "id": "YFSK6K_4k6LJ",
        "outputId": "c370ccae-43d5-4772-adc5-d346b2aec9a7"
      },
      "execution_count": 58,
      "outputs": [
        {
          "output_type": "display_data",
          "data": {
            "text/plain": [
              "<Figure size 2800x500 with 32 Axes>"
            ],
            "image/png": "[encoded data removed]"
          },
          "metadata": {}
        }
      ]
    },
    {
      "cell_type": "code",
      "source": [
        "print(\"Best Hyperparameter Set:\", best_hyperparameter_set)\n"
      ],
      "metadata": {
        "colab": {
          "base_uri": "https://localhost:8080/"
        },
        "id": "4ICK6YYtKEYL",
        "outputId": "a8c84d88-29e0-473c-afc1-8ad116eafe1a"
      },
      "execution_count": null,
      "outputs": [
        {
          "output_type": "stream",
          "name": "stdout",
          "text": [
            "Best Hyperparameter Set: {'lr': 0.001, 'batch_size': 64, 'dropout_rate1': 0.2, 'dropout_rate2': 0.0, 'dropout_rate3': 0.0, 'linear_hidden_size': 128}\n"
          ]
        }
      ]
    }
  ]
}